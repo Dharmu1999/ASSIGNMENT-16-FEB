{
 "cells": [
  {
   "cell_type": "markdown",
   "id": "0f131f57-3907-4e48-8cbe-e475b2bc9dac",
   "metadata": {},
   "source": [
    "# Q1. What is a database? Differentiate between SQL and NoSQL databases ?"
   ]
  },
  {
   "cell_type": "markdown",
   "id": "de9ae4c9-53ab-42d6-a171-b04ac18445c3",
   "metadata": {},
   "source": [
    "# ANS\n",
    "\n",
    "A database is an organized collection of data that is stored and managed on a computer system. The data in a database can be structured, semi-structured, or unstructured, and it can be manipulated in a variety of ways.\n",
    "\n",
    "SQL (Structured Query Language) and NoSQL (Not Only SQL) are two different types of database management systems. SQL databases are relational databases, which means that the data is stored in tables with fixed schemas, and the relationships between the tables are defined by primary and foreign keys. SQL databases are ideal for applications that require complex queries, and they are often used for financial and accounting systems, human resources management, and e-commerce.\n",
    "\n",
    "On the other hand, NoSQL databases are non-relational databases that store data in a variety of formats, including key-value, document, and graph formats. NoSQL databases are designed for applications that require scalability and flexibility, and they are often used for web applications, real-time analytics, and social media platforms.\n",
    "\n",
    "In summary, the main differences between SQL and NoSQL databases are:\n",
    "\n",
    "SQL databases are relational and use SQL as the primary language for querying data, while NoSQL databases are non-relational and use a variety of data models and languages.\n",
    "SQL databases have a fixed schema, while NoSQL databases have a flexible schema.\n",
    "SQL databases are best suited for complex queries, while NoSQL databases are designed for scalability and flexibilitY"
   ]
  },
  {
   "cell_type": "markdown",
   "id": "50176179-eda1-4768-b893-f2c1b9bac4d8",
   "metadata": {},
   "source": [
    "# Q2. What is DDL? Explain why CREATE, DROP, ALTER, and TRUNCATE are used with an example ?"
   ]
  },
  {
   "cell_type": "markdown",
   "id": "45f46fb4-0ecd-4442-a4e7-34a88340bd68",
   "metadata": {},
   "source": [
    "# ANS\n",
    "DDL stands for Data Definition Language, and it is a set of SQL commands used to define, modify, and delete database objects such as tables, indexes, and constraints.\n",
    "\n",
    "The four main DDL commands are:\n",
    "\n",
    "CREATE: This command is used to create a new database object such as a table, index, or constraint. For example, the following SQL statement creates a new table named \"users\" with three columns - id, name, and email:"
   ]
  },
  {
   "cell_type": "code",
   "execution_count": null,
   "id": "fcd5cff8-0e91-4221-bd9c-d5b616163a75",
   "metadata": {},
   "outputs": [],
   "source": [
    "# # EXAMPLE\n",
    "# CREATE TABLE users (\n",
    "#   id INT PRIMARY KEY,\n",
    "#   name VARCHAR(50),\n",
    "#   email VARCHAR(100)\n",
    "# );\n",
    "# DROP: This command is used to delete an existing database object. For example, the following SQL statement drops the \"users\" table:sql\n",
    "\n"
   ]
  },
  {
   "cell_type": "markdown",
   "id": "ad885818-fdab-4de3-8dd6-93accb2e11b5",
   "metadata": {},
   "source": [
    "# Q3. What is DML? Explain INSERT, UPDATE, and DELETE with an example ?"
   ]
  },
  {
   "cell_type": "markdown",
   "id": "8dceaa4c-3e1b-4050-aa02-2020b0216770",
   "metadata": {},
   "source": [
    "# ANS\n",
    "DML stands for Data Manipulation Language, and it is a set of SQL commands used to manipulate data stored in a database. DML commands are used to insert, update, and delete data from database tables.\n",
    "\n",
    "The three main DML commands are:\n",
    "\n",
    "INSERT: This command is used to insert new data into a database table. For example, the following SQL statement inserts a new row into the \"users\" table with values for the id, name, email, and phone columns:"
   ]
  },
  {
   "cell_type": "code",
   "execution_count": 3,
   "id": "d0ce2c86-cff5-4d3d-b91c-d5da679c927a",
   "metadata": {},
   "outputs": [
    {
     "ename": "SyntaxError",
     "evalue": "invalid syntax (901504162.py, line 2)",
     "output_type": "error",
     "traceback": [
      "\u001b[0;36m  Cell \u001b[0;32mIn[3], line 2\u001b[0;36m\u001b[0m\n\u001b[0;31m    INSERT INTO users (id, name, email, phone)\u001b[0m\n\u001b[0m           ^\u001b[0m\n\u001b[0;31mSyntaxError\u001b[0m\u001b[0;31m:\u001b[0m invalid syntax\n"
     ]
    }
   ],
   "source": [
    "# EXAMPLE\n",
    "INSERT INTO users (id, name, email, phone)\n",
    "VALUES (1, 'John Smith', 'john@example.com', '555-1234');\n"
   ]
  },
  {
   "cell_type": "markdown",
   "id": "402ff4c4-6227-4ffe-985a-5c51c80dd5e8",
   "metadata": {},
   "source": [
    "INSERT INTO users (id, name, email, phone)\n",
    "VALUES (1, 'John Smith', 'john@example.com', '555-1234');\n"
   ]
  },
  {
   "cell_type": "markdown",
   "id": "a0390f94-3fac-4f85-9198-c281f7ab6b7a",
   "metadata": {},
   "source": [
    "DELETE: This command is used to delete data from a database table. For example, the following SQL statement deletes the row from the \"users\" table where the id is equal to 1:\n",
    "\n",
    "sql\n",
    "Copy code\n",
    "DELETE FROM users WHERE id=1;"
   ]
  },
  {
   "cell_type": "markdown",
   "id": "4f5d8117-cc40-428c-819d-a47ccb6ecaf9",
   "metadata": {},
   "source": [
    "# Q4. What is DQL? Explain SELECT with an example ?"
   ]
  },
  {
   "cell_type": "markdown",
   "id": "b8ae94e9-8aa2-4b74-aba2-2d29c9e83764",
   "metadata": {},
   "source": [
    "DQL stands for Data Query Language, and it is a set of SQL commands used to retrieve data from a database. The most commonly used DQL command is SELECT, which is used to select data from one or more tables in a database.\n",
    "\n",
    "The SELECT statement has the following basic syntax:\n",
    "\n",
    "sql\n"
   ]
  },
  {
   "cell_type": "code",
   "execution_count": null,
   "id": "b787eb4c-495d-4186-9943-9b82afa02ec0",
   "metadata": {},
   "outputs": [],
   "source": [
    "SELECT column1, column2, ...\n",
    "FROM table_name\n",
    "WHERE condition;\n"
   ]
  },
  {
   "cell_type": "markdown",
   "id": "665c64b1-60cb-48ad-b5e3-300853394a6d",
   "metadata": {},
   "source": [
    "# Q5. Explain Primary Key and Foreign Key ?"
   ]
  },
  {
   "cell_type": "markdown",
   "id": "5c7e0276-b214-4999-8ad6-82801f61111b",
   "metadata": {},
   "source": [
    "# ANS\n",
    "Primary Key:\n",
    "A primary key is a column or group of columns in a table that uniquely identifies each row in the table. The primary key is used to enforce data integrity and to ensure that each row in the table can be uniquely identified. In most cases, the primary key is created using a single column with a unique value for each row, although it can also be created using a group of columns.\n",
    "\n",
    "For example, let's say we have a table named \"students\" with columns \"id\", \"name\", \"email\", and \"age\". We can define the \"id\" column as the primary key to ensure that each row in the table has a unique identifier:"
   ]
  },
  {
   "cell_type": "markdown",
   "id": "db834a25-866f-408b-b793-5731179ecd25",
   "metadata": {},
   "source": [
    "Foreign Key:\n",
    "A foreign key is a column or group of columns in a table that refers to the primary key of another table. The foreign key is used to establish a relationship between two tables, and it ensures that the data in the related tables is consistent. In other words, the foreign key enforces referential integrity between two tables.\n",
    "\n",
    "For example, let's say we have two tables named \"students\" and \"courses\". The \"students\" table has a primary key on the \"id\" column, and the \"courses\" table has a primary key on the \"course_id\" column. We can define a foreign key in the \"students\" table that references the \"course_id\" column in the \"courses\" table to establish a relationship between the two tables:"
   ]
  },
  {
   "cell_type": "code",
   "execution_count": 4,
   "id": "9a63ca1b-9838-4ed8-aab7-d91fe17e8ce5",
   "metadata": {},
   "outputs": [
    {
     "ename": "SyntaxError",
     "evalue": "invalid syntax (3328342813.py, line 2)",
     "output_type": "error",
     "traceback": [
      "\u001b[0;36m  Cell \u001b[0;32mIn[4], line 2\u001b[0;36m\u001b[0m\n\u001b[0;31m    CREATE TABLE students (\u001b[0m\n\u001b[0m           ^\u001b[0m\n\u001b[0;31mSyntaxError\u001b[0m\u001b[0;31m:\u001b[0m invalid syntax\n"
     ]
    }
   ],
   "source": [
    "# EXAMPLE\n",
    "CREATE TABLE students (\n",
    "  id INT PRIMARY KEY,\n",
    "  name VARCHAR(50),\n",
    "  email VARCHAR(100),\n",
    "  age INT,\n",
    "  course_id INT,\n",
    "  FOREIGN KEY (course_id) REFERENCES courses(course_id)\n",
    ");\n",
    "\n",
    "CREATE TABLE courses (\n",
    "  course_id INT PRIMARY KEY,\n",
    "  course_name VARCHAR(50)\n",
    ");\n"
   ]
  },
  {
   "cell_type": "markdown",
   "id": "6be3308e-7e2d-48d6-9709-8d1e6c3d28f7",
   "metadata": {},
   "source": [
    "# Q6. Write a python code to connect MySQL to python. Explain the cursor() and execute() method ?"
   ]
  },
  {
   "cell_type": "code",
   "execution_count": 5,
   "id": "e907cbd6-d603-4e6f-a25f-8c9cb85434ed",
   "metadata": {},
   "outputs": [
    {
     "ename": "ModuleNotFoundError",
     "evalue": "No module named 'mysql'",
     "output_type": "error",
     "traceback": [
      "\u001b[0;31m---------------------------------------------------------------------------\u001b[0m",
      "\u001b[0;31mModuleNotFoundError\u001b[0m                       Traceback (most recent call last)",
      "Cell \u001b[0;32mIn[5], line 2\u001b[0m\n\u001b[1;32m      1\u001b[0m \u001b[38;5;66;03m# ANS\u001b[39;00m\n\u001b[0;32m----> 2\u001b[0m \u001b[38;5;28;01mimport\u001b[39;00m \u001b[38;5;21;01mmysql\u001b[39;00m\u001b[38;5;21;01m.\u001b[39;00m\u001b[38;5;21;01mconnector\u001b[39;00m\n\u001b[1;32m      4\u001b[0m \u001b[38;5;66;03m# Connect to the MySQL database\u001b[39;00m\n\u001b[1;32m      5\u001b[0m mydb \u001b[38;5;241m=\u001b[39m mysql\u001b[38;5;241m.\u001b[39mconnector\u001b[38;5;241m.\u001b[39mconnect(\n\u001b[1;32m      6\u001b[0m   host\u001b[38;5;241m=\u001b[39m\u001b[38;5;124m\"\u001b[39m\u001b[38;5;124mlocalhost\u001b[39m\u001b[38;5;124m\"\u001b[39m,\n\u001b[1;32m      7\u001b[0m   user\u001b[38;5;241m=\u001b[39m\u001b[38;5;124m\"\u001b[39m\u001b[38;5;124myourusername\u001b[39m\u001b[38;5;124m\"\u001b[39m,\n\u001b[1;32m      8\u001b[0m   password\u001b[38;5;241m=\u001b[39m\u001b[38;5;124m\"\u001b[39m\u001b[38;5;124myourpassword\u001b[39m\u001b[38;5;124m\"\u001b[39m,\n\u001b[1;32m      9\u001b[0m   database\u001b[38;5;241m=\u001b[39m\u001b[38;5;124m\"\u001b[39m\u001b[38;5;124myourdatabase\u001b[39m\u001b[38;5;124m\"\u001b[39m\n\u001b[1;32m     10\u001b[0m )\n",
      "\u001b[0;31mModuleNotFoundError\u001b[0m: No module named 'mysql'"
     ]
    }
   ],
   "source": [
    "# ANS\n",
    "import mysql.connector\n",
    "\n",
    "# Connect to the MySQL database\n",
    "mydb = mysql.connector.connect(\n",
    "  host=\"localhost\",\n",
    "  user=\"yourusername\",\n",
    "  password=\"yourpassword\",\n",
    "  database=\"yourdatabase\"\n",
    ")\n",
    "\n",
    "# Create a cursor object to execute SQL statements\n",
    "mycursor = mydb.cursor()\n",
    "\n",
    "# Execute a SQL statement\n",
    "mycursor.execute(\"SELECT * FROM users\")\n",
    "\n",
    "# Fetch the result of the SQL statement\n",
    "result = mycursor.fetchall()\n",
    "\n",
    "# Print the result\n",
    "for row in result:\n",
    "  print(row)\n"
   ]
  },
  {
   "cell_type": "markdown",
   "id": "556b6702-2db9-47d3-93e5-183edb2949a6",
   "metadata": {},
   "source": [
    "In this example, we first import the mysql.connector library and then connect to the MySQL database using the mysql.connector.connect() method. We provide the necessary connection details, such as the hostname, username, password, and database name.\n",
    "\n",
    "Next, we create a cursor object using the mydb.cursor() method. The cursor object is used to execute SQL statements and fetch the result.\n",
    "\n",
    "We then execute a simple SQL statement using the mycursor.execute() method. In this case, we're selecting all the rows from the users table.\n",
    "\n",
    "Finally, we fetch the result using the mycursor.fetchall() method and iterate over the result to print each row.\n",
    "\n",
    "The cursor() method returns a cursor object that we can use to execute SQL statements. The cursor object provides several methods, such as execute(), fetchone(), and fetchall(), that we can use to interact with the database.\n",
    "\n",
    "The execute() method is used to execute a SQL statement. We pass the SQL statement as an argument to the execute() method. If the SQL statement contains parameters, we can pass the parameter values as a tuple to the execute() method.\n",
    "\n",
    "Overall, this is a basic example of how to connect to MySQL using Python and execute a SQL statement using the cursor object. We can build on this code to perform more complex database operation"
   ]
  },
  {
   "cell_type": "markdown",
   "id": "b930faab-b522-4e8b-a0b9-8f1b51b0e563",
   "metadata": {},
   "source": [
    "# Q7. Give the order of execution of SQL clauses in an SQL query ?"
   ]
  },
  {
   "cell_type": "code",
   "execution_count": null,
   "id": "d888d8a2-a7a2-4943-a75a-4e1a2cfc337d",
   "metadata": {},
   "outputs": [],
   "source": [
    "# ans\n",
    "n an SQL query, the order of execution of clauses is as follows:\n",
    "\n",
    "FROM clause: This clause specifies the table or tables from which the data will be selected.\n",
    "\n",
    "JOIN clause: If the query involves joining multiple tables, the join clause is executed after the from clause. It combines data from two or more tables into a single result set.\n",
    "\n",
    "WHERE clause: This clause is used to filter the data based on a specified condition. It is executed after the join clause and before the select clause.\n",
    "\n",
    "GROUP BY clause: This clause is used to group the data based on one or more columns. It is executed after the where clause and before the select clause.\n",
    "\n",
    "HAVING clause: This clause is used to filter the grouped data based on a specified condition. It is executed after the group by clause and before the select clause.\n",
    "\n",
    "SELECT clause: This clause is used to select the columns to be included in the result set. It is executed after all the preceding clauses.\n",
    "\n",
    "ORDER BY clause: This clause is used to sort the result set based on one or more columns. It is executed after the select clause.\n",
    "\n",
    "LIMIT clause: This clause is used to limit the number of rows returned by the query. It is executed after the order by clause.\n",
    "\n",
    "Note that not all SQL queries will include all of these clauses, and some queries may include additional clauses. The order of execution may also change depending on the specific query and the database management system being used.\n",
    "\n",
    "\n",
    "\n",
    "\n",
    "\n"
   ]
  }
 ],
 "metadata": {
  "kernelspec": {
   "display_name": "Python 3 (ipykernel)",
   "language": "python",
   "name": "python3"
  },
  "language_info": {
   "codemirror_mode": {
    "name": "ipython",
    "version": 3
   },
   "file_extension": ".py",
   "mimetype": "text/x-python",
   "name": "python",
   "nbconvert_exporter": "python",
   "pygments_lexer": "ipython3",
   "version": "3.10.8"
  }
 },
 "nbformat": 4,
 "nbformat_minor": 5
}
